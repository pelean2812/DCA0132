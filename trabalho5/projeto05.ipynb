{
 "cells": [
  {
   "cell_type": "markdown",
   "id": "ddeaf756-77a1-45ef-849a-b0c5746c4f10",
   "metadata": {},
   "source": [
    "# Etapa 1 - PyMongo para ingestão de dados"
   ]
  },
  {
   "cell_type": "code",
   "execution_count": 1,
   "id": "8259b109-cbf9-4633-903d-c0b50497f476",
   "metadata": {},
   "outputs": [],
   "source": [
    "import csv\n",
    "from pymongo import MongoClient"
   ]
  },
  {
   "cell_type": "code",
   "execution_count": 6,
   "id": "ea3363ed-782a-4401-907d-018c995661df",
   "metadata": {},
   "outputs": [
    {
     "name": "stdout",
     "output_type": "stream",
     "text": [
      "14459 documentos inseridos com sucesso no MongoDB\n"
     ]
    }
   ],
   "source": [
    "# Conexão com o MongoDB\n",
    "\n",
    "client = MongoClient(\"mongodb://mongo-db:27017\")\n",
    "db = client[\"ufrn\"]\n",
    "collection = db[\"discentes_2024\"]\n",
    "\n",
    "collection.delete_many({})\n",
    "\n",
    "with open(\"discentes-2024.csv\", newline='', encoding=\"utf-8\") as f:\n",
    "    reader = csv.DictReader(f, delimiter=';')\n",
    "    documentos = list(reader)\n",
    "    collection.insert_many(documentos)\n",
    "\n",
    "print(f\"{len(documentos)} documentos inseridos com sucesso no MongoDB\")"
   ]
  },
  {
   "cell_type": "code",
   "execution_count": 7,
   "id": "0c4e18e5-4e37-4e7c-90f4-4c5279b0e6a7",
   "metadata": {
    "scrolled": true
   },
   "outputs": [
    {
     "name": "stdout",
     "output_type": "stream",
     "text": [
      "{'_id': ObjectId('68719d64cb8543122036aff0'), 'matricula': '20241004169', 'ano_ingresso': '2024', 'periodo_ingresso': '1', 'id_curso': '96067713', 'id_unidade': '7268', 'id_unidade_gestora': '445', 'nome_discente': 'ABDIAS DA SILVA TAVARES', 'sexo': 'M', 'forma_ingresso': 'SELEÇÃO DE PÓS-GRADUAÇÃO', 'tipo_discente': 'REGULAR', 'status': 'ATIVO', 'sigla_nivel_ensino': 'E', 'nivel_ensino': 'MESTRADO', 'nome_curso': 'MESTRADO PROFISSIONAL EM ENERGIA ELÉTRICA', 'modalidade_educacao': 'PRESENCIAL', 'nome_unidade': 'PROGRAMA DE PÓS-GRADUAÇÃO EM ENERGIA ELÉTRICA', 'nome_unidade_gestora': 'CENTRO DE TECNOLOGIA'}\n",
      "{'_id': ObjectId('68719d64cb8543122036aff1'), 'matricula': '20241030122', 'ano_ingresso': '2024', 'periodo_ingresso': '2', 'id_curso': '', 'id_unidade': '', 'id_unidade_gestora': '', 'nome_discente': 'ABDIEL DE LIRA ROLIM', 'sexo': 'M', 'forma_ingresso': 'ALUNO ESPECIAL POS-GRADUACAO', 'tipo_discente': 'ESPECIAL', 'status': 'ATIVO', 'sigla_nivel_ensino': 'E', 'nivel_ensino': 'MESTRADO', 'nome_curso': '', 'modalidade_educacao': '', 'nome_unidade': '', 'nome_unidade_gestora': ''}\n",
      "{'_id': ObjectId('68719d64cb8543122036aff2'), 'matricula': '20245010870', 'ano_ingresso': '2024', 'periodo_ingresso': '2', 'id_curso': '176715640', 'id_unidade': '6042', 'id_unidade_gestora': '442', 'nome_discente': 'ABDOULAYE DIOP', 'sexo': 'M', 'forma_ingresso': 'PROCESSO SELETIVO', 'tipo_discente': 'REGULAR', 'status': 'CANCELADO', 'sigla_nivel_ensino': 'F', 'nivel_ensino': 'FORMAÇÃO COMPLEMENTAR', 'nome_curso': 'CURSO DE PORTUGUÊS COMO LÍNGUA DE ACOLHIMENTO', 'modalidade_educacao': 'PRESENCIAL', 'nome_unidade': 'INSTITUTO ÁGORA - LÍNGUAS, LITERATURAS E CULTURAS ESTRANGEIRAS MODERNAS', 'nome_unidade_gestora': 'CENTRO DE CIÊNCIAS HUMANAS, LETRAS E ARTES'}\n",
      "{'_id': ObjectId('68719d64cb8543122036aff3'), 'matricula': '20241014568', 'ano_ingresso': '2024', 'periodo_ingresso': '1', 'id_curso': '121804772', 'id_unidade': '10490', 'id_unidade_gestora': '441', 'nome_discente': 'ABIGAIL GABRIELLI DANTAS RODRIGUES ALBUQUERQUE', 'sexo': 'F', 'forma_ingresso': 'SELEÇÃO DE PÓS-GRADUAÇÃO', 'tipo_discente': 'REGULAR', 'status': 'ATIVO', 'sigla_nivel_ensino': 'E', 'nivel_ensino': 'MESTRADO', 'nome_curso': 'MESTRADO EM FONOAUDIOLOGIA', 'modalidade_educacao': 'PRESENCIAL', 'nome_unidade': 'PROGRAMA DE PÓS-GRADUAÇÃO EM FONOAUDIOLOGIA', 'nome_unidade_gestora': 'CENTRO DE CIÊNCIAS DA SAÚDE'}\n",
      "{'_id': ObjectId('68719d64cb8543122036aff4'), 'matricula': '20240004567', 'ano_ingresso': '2024', 'periodo_ingresso': '1', 'id_curso': '92127264', 'id_unidade': '6069', 'id_unidade_gestora': '605', 'nome_discente': 'ABÍLIO GABRIEL MAIA DE LIMA', 'sexo': 'M', 'forma_ingresso': 'SiSU', 'tipo_discente': 'REGULAR', 'status': 'CANCELADO', 'sigla_nivel_ensino': 'G', 'nivel_ensino': 'GRADUAÇÃO', 'nome_curso': 'TECNOLOGIA DA INFORMAÇÃO', 'modalidade_educacao': 'PRESENCIAL', 'nome_unidade': 'INSTITUTO METROPOLE DIGITAL', 'nome_unidade_gestora': 'UNIVERSIDADE FEDERAL DO RIO GRANDE DO NORTE'}\n"
     ]
    }
   ],
   "source": [
    "for doc in collection.find().limit(5):\n",
    "    print(doc)"
   ]
  },
  {
   "cell_type": "markdown",
   "id": "6676c440-322b-4ea1-b8c5-e4b7190c1dea",
   "metadata": {},
   "source": [
    "# Etapa 2 - PySpark para processamento, exibição e salvamento"
   ]
  },
  {
   "cell_type": "code",
   "execution_count": 8,
   "id": "e5702c18-5b97-47b5-b981-f2f32303e786",
   "metadata": {},
   "outputs": [],
   "source": [
    "from pyspark.sql import SparkSession"
   ]
  },
  {
   "cell_type": "code",
   "execution_count": 9,
   "id": "44a3dc29-20ce-469f-99a5-daab96b8ee7c",
   "metadata": {},
   "outputs": [
    {
     "name": "stdout",
     "output_type": "stream",
     "text": [
      ":: loading settings :: url = jar:file:/home/myuser/spark/jars/ivy-2.5.1.jar!/org/apache/ivy/core/settings/ivysettings.xml\n"
     ]
    },
    {
     "name": "stderr",
     "output_type": "stream",
     "text": [
      "Ivy Default Cache set to: /home/myuser/.ivy2/cache\n",
      "The jars for the packages stored in: /home/myuser/.ivy2/jars\n",
      "org.mongodb.spark#mongo-spark-connector_2.12 added as a dependency\n",
      ":: resolving dependencies :: org.apache.spark#spark-submit-parent-a71ae79d-1f36-4b31-a8fc-d6bccefe4227;1.0\n",
      "\tconfs: [default]\n",
      "\tfound org.mongodb.spark#mongo-spark-connector_2.12;10.4.0 in central\n",
      "\tfound org.mongodb#mongodb-driver-sync;5.1.4 in central\n",
      "\t[5.1.4] org.mongodb#mongodb-driver-sync;[5.1.1,5.1.99)\n",
      "\tfound org.mongodb#bson;5.1.4 in central\n",
      "\tfound org.mongodb#mongodb-driver-core;5.1.4 in central\n",
      "\tfound org.mongodb#bson-record-codec;5.1.4 in central\n",
      ":: resolution report :: resolve 2480ms :: artifacts dl 3ms\n",
      "\t:: modules in use:\n",
      "\torg.mongodb#bson;5.1.4 from central in [default]\n",
      "\torg.mongodb#bson-record-codec;5.1.4 from central in [default]\n",
      "\torg.mongodb#mongodb-driver-core;5.1.4 from central in [default]\n",
      "\torg.mongodb#mongodb-driver-sync;5.1.4 from central in [default]\n",
      "\torg.mongodb.spark#mongo-spark-connector_2.12;10.4.0 from central in [default]\n",
      "\t---------------------------------------------------------------------\n",
      "\t|                  |            modules            ||   artifacts   |\n",
      "\t|       conf       | number| search|dwnlded|evicted|| number|dwnlded|\n",
      "\t---------------------------------------------------------------------\n",
      "\t|      default     |   5   |   1   |   0   |   0   ||   5   |   0   |\n",
      "\t---------------------------------------------------------------------\n",
      ":: retrieving :: org.apache.spark#spark-submit-parent-a71ae79d-1f36-4b31-a8fc-d6bccefe4227\n",
      "\tconfs: [default]\n",
      "\t0 artifacts copied, 5 already retrieved (0kB/3ms)\n",
      "Setting default log level to \"WARN\".nc;5.1.4 in central\n",
      "\t[5.1.4] org.mongodb#mongodb-driver-sync;[5.1.1,5.1.99)\n",
      "\tfound org.mongodb#bson;5.1.4 in central\n",
      "\tfound org.mongodb#mongodb-driver-core;5.1.4 in central\n",
      "\tfound org.mongodb#bson-record-codec;5.1.4 in central\n",
      ":: resolution report :: resolve 2480ms :: artifacts dl 3ms\n",
      "\t:: modules in use:\n",
      "\torg.mongodb#bson;5.1.4 from central in [default]\n",
      "\torg.mongodb#bson-record-codec;5.1.4 from central in [default]\n",
      "\torg.mongodb#mongodb-driver-core;5.1.4 from central in [default]\n",
      "\torg.mongodb#mongodb-driver-sync;5.1.4 from central in [default]\n",
      "\torg.mongodb.spark#mongo-spark-connector_2.12;10.4.0 from central in [default]\n",
      "\t---------------------------------------------------------------------\n",
      "\t|                  |            modules            ||   artifacts   |\n",
      "\t|       conf       | number| search|dwnlded|evicted|| number|dwnlded|\n",
      "\t---------------------------------------------------------------------\n",
      "\t|      default     |   5   |   1   |   0   |   0   ||   5   |   0   |\n",
      "\t---------------------------------------------------------------------\n",
      ":: retrieving :: org.apache.spark#spark-submit-parent-a71ae79d-1f36-4b31-a8fc-d6bccefe4227\n",
      "\tconfs: [default]\n",
      "\t0 artifacts copied, 5 already retrieved (0kB/3ms)\n",
      "\n",
      "To adjust logging level use sc.setLogLevel(newLevel). For SparkR, use setLogLevel(newLevel).\n",
      "25/07/11 23:25:43 WARN Client: Same path resource file:///home/myuser/.ivy2/jars/org.mongodb.spark_mongo-spark-connector_2.12-10.4.0.jar added multiple times to distributed cache.-driver-core;5.1.4 in central\n",
      "\tfound org.mongodb#bson-record-codec;5.1.4 in central\n",
      ":: resolution report :: resolve 2480ms :: artifacts dl 3ms\n",
      "\t:: modules in use:\n",
      "\torg.mongodb#bson;5.1.4 from central in [default]\n",
      "\torg.mongodb#bson-record-codec;5.1.4 from central in [default]\n",
      "\torg.mongodb#mongodb-driver-core;5.1.4 from central in [default]\n",
      "\torg.mongodb#mongodb-driver-sync;5.1.4 from central in [default]\n",
      "\torg.mongodb.spark#mongo-spark-connector_2.12;10.4.0 from central in [default]\n",
      "\t---------------------------------------------------------------------\n",
      "\t|                  |            modules            ||   artifacts   |\n",
      "\t|       conf       | number| search|dwnlded|evicted|| number|dwnlded|\n",
      "\t---------------------------------------------------------------------\n",
      "\t|      default     |   5   |   1   |   0   |   0   ||   5   |   0   |\n",
      "\t---------------------------------------------------------------------\n",
      ":: retrieving :: org.apache.spark#spark-submit-parent-a71ae79d-1f36-4b31-a8fc-d6bccefe4227\n",
      "\tconfs: [default]\n",
      "\t0 artifacts copied, 5 already retrieved (0kB/3ms)\n",
      "\n",
      "To adjust logging level use sc.setLogLevel(newLevel). For SparkR, use setLogLevel(newLevel).\n",
      "\n",
      "25/07/11 23:25:43 WARN Client: Same path resource file:///home/myuser/.ivy2/jars/org.mongodb_mongodb-driver-sync-5.1.4.jar added multiple times to distributed cache.\n",
      "25/07/11 23:25:43 WARN Client: Same path resource file:///home/myuser/.ivy2/jars/org.mongodb_bson-5.1.4.jar added multiple times to distributed cache.\n",
      "25/07/11 23:25:43 WARN Client: Same path resource file:///home/myuser/.ivy2/jars/org.mongodb_mongodb-driver-core-5.1.4.jar added multiple times to distributed cache.\n",
      "25/07/11 23:25:43 WARN Client: Same path resource file:///home/myuser/.ivy2/jars/org.mongodb_bson-record-codec-5.1.4.jar added multiple times to distributed cache.\n"
     ]
    }
   ],
   "source": [
    "spark = SparkSession.builder \\\n",
    "    .appName(\"DiscentesUFRN\") \\\n",
    "    .config(\"spark.mongodb.read.connection.uri\", \"mongodb://mongo-db:27017\") \\\n",
    "    .config(\"spark.mongodb.read.database\", \"ufrn\") \\\n",
    "    .config(\"spark.mongodb.read.collection\", \"discentes_2024\") \\\n",
    "    .config(\"spark.mongodb.write.connection.uri\", \"mongodb://mongo-db:27017\") \\\n",
    "    .config(\"spark.mongodb.write.database\", \"ufrn\") \\\n",
    "    .config(\"spark.jars.packages\", \"org.mongodb.spark:mongo-spark-connector_2.12:10.4.0\") \\\n",
    "    .getOrCreate()"
   ]
  },
  {
   "cell_type": "code",
   "execution_count": 10,
   "id": "8ab1e89a-4479-4d09-88aa-3daf9d9653ce",
   "metadata": {},
   "outputs": [
    {
     "name": "stdout",
     "output_type": "stream",
     "text": [
      "root\n",
      " |-- _id: string (nullable = true)\n",
      " |-- ano_ingresso: string (nullable = true)\n",
      " |-- forma_ingresso: string (nullable = true)\n",
      " |-- id_curso: string (nullable = true)\n",
      " |-- id_unidade: string (nullable = true)\n",
      " |-- id_unidade_gestora: string (nullable = true)\n",
      " |-- matricula: string (nullable = true)\n",
      " |-- modalidade_educacao: string (nullable = true)\n",
      " |-- nivel_ensino: string (nullable = true)\n",
      " |-- nome_curso: string (nullable = true)\n",
      " |-- nome_discente: string (nullable = true)\n",
      " |-- nome_unidade: string (nullable = true)\n",
      " |-- nome_unidade_gestora: string (nullable = true)\n",
      " |-- periodo_ingresso: string (nullable = true)\n",
      " |-- sexo: string (nullable = true)\n",
      " |-- sigla_nivel_ensino: string (nullable = true)\n",
      " |-- status: string (nullable = true)\n",
      " |-- tipo_discente: string (nullable = true)\n",
      "\n"
     ]
    },
    {
     "name": "stderr",
     "output_type": "stream",
     "text": [
      "                                                                                "
     ]
    },
    {
     "name": "stdout",
     "output_type": "stream",
     "text": [
      "+--------------------+------------+--------------------+---------+----------+------------------+-----------+-------------------+--------------------+--------------------+--------------------+--------------------+--------------------+----------------+----+------------------+---------+-------------+\n",
      "|                 _id|ano_ingresso|      forma_ingresso| id_curso|id_unidade|id_unidade_gestora|  matricula|modalidade_educacao|        nivel_ensino|          nome_curso|       nome_discente|        nome_unidade|nome_unidade_gestora|periodo_ingresso|sexo|sigla_nivel_ensino|   status|tipo_discente|\n",
      "+--------------------+------------+--------------------+---------+----------+------------------+-----------+-------------------+--------------------+--------------------+--------------------+--------------------+--------------------+----------------+----+------------------+---------+-------------+\n",
      "|68719d64cb8543122...|        2024|SELEÇÃO DE PÓS-GR...| 96067713|      7268|               445|20241004169|         PRESENCIAL|            MESTRADO|MESTRADO PROFISSI...|ABDIAS DA SILVA T...|PROGRAMA DE PÓS-G...|CENTRO DE TECNOLOGIA|               1|   M|                 E|    ATIVO|      REGULAR|\n",
      "|68719d64cb8543122...|        2024|ALUNO ESPECIAL PO...|         |          |                  |20241030122|                   |            MESTRADO|                    |ABDIEL DE LIRA ROLIM|                    |                    |               2|   M|                 E|    ATIVO|     ESPECIAL|\n",
      "|68719d64cb8543122...|        2024|   PROCESSO SELETIVO|176715640|      6042|               442|20245010870|         PRESENCIAL|FORMAÇÃO COMPLEME...|CURSO DE PORTUGUÊ...|      ABDOULAYE DIOP|INSTITUTO ÁGORA -...|CENTRO DE CIÊNCIA...|               2|   M|                 F|CANCELADO|      REGULAR|\n",
      "|68719d64cb8543122...|        2024|SELEÇÃO DE PÓS-GR...|121804772|     10490|               441|20241014568|         PRESENCIAL|            MESTRADO|MESTRADO EM FONOA...|ABIGAIL GABRIELLI...|PROGRAMA DE PÓS-G...|CENTRO DE CIÊNCIA...|               1|   F|                 E|    ATIVO|      REGULAR|\n",
      "|68719d64cb8543122...|        2024|                SiSU| 92127264|      6069|               605|20240004567|         PRESENCIAL|           GRADUAÇÃO|TECNOLOGIA DA INF...|ABÍLIO GABRIEL MA...|INSTITUTO METROPO...|UNIVERSIDADE FEDE...|               1|   M|                 G|CANCELADO|      REGULAR|\n",
      "+--------------------+------------+--------------------+---------+----------+------------------+-----------+-------------------+--------------------+--------------------+--------------------+--------------------+--------------------+----------------+----+------------------+---------+-------------+\n",
      "only showing top 5 rows\n",
      "\n"
     ]
    }
   ],
   "source": [
    "df = spark.read.format(\"mongodb\").load()\n",
    "df.printSchema()\n",
    "df.show(5)"
   ]
  },
  {
   "cell_type": "code",
   "execution_count": 11,
   "id": "073f5379-0890-402d-ae34-9891bd6aec02",
   "metadata": {},
   "outputs": [],
   "source": [
    "df.createOrReplaceTempView(\"discentes\")"
   ]
  },
  {
   "cell_type": "markdown",
   "id": "61b37b20-5db4-49b2-a5f5-b0fc91e95776",
   "metadata": {},
   "source": [
    "## Consultas"
   ]
  },
  {
   "cell_type": "markdown",
   "id": "3245cde6-46fc-4991-9def-373e300fe143",
   "metadata": {},
   "source": [
    "### 1. Listar todos os alunos que ingressaram por meio do SiSU"
   ]
  },
  {
   "cell_type": "code",
   "execution_count": 9,
   "id": "d86be5eb-daf5-4ced-8961-cd08d45d729d",
   "metadata": {},
   "outputs": [
    {
     "name": "stdout",
     "output_type": "stream",
     "text": [
      "+------------------------+------------+--------------+--------+----------+------------------+-----------+-------------------+------------+------------------------+--------------------------------------------+------------------------------------+-------------------------------------------+----------------+----+------------------+---------+-------------+\n",
      "|_id                     |ano_ingresso|forma_ingresso|id_curso|id_unidade|id_unidade_gestora|matricula  |modalidade_educacao|nivel_ensino|nome_curso              |nome_discente                               |nome_unidade                        |nome_unidade_gestora                       |periodo_ingresso|sexo|sigla_nivel_ensino|status   |tipo_discente|\n",
      "+------------------------+------------+--------------+--------+----------+------------------+-----------+-------------------+------------+------------------------+--------------------------------------------+------------------------------------+-------------------------------------------+----------------+----+------------------+---------+-------------+\n",
      "|6865c341402845913e768285|2024        |SiSU          |92127264|6069      |605               |20240004567|PRESENCIAL         |GRADUAÇÃO   |TECNOLOGIA DA INFORMAÇÃO|ABÍLIO GABRIEL MAIA DE LIMA                 |INSTITUTO METROPOLE DIGITAL         |UNIVERSIDADE FEDERAL DO RIO GRANDE DO NORTE|1               |M   |G                 |CANCELADO|REGULAR      |\n",
      "|6865c341402845913e768286|2024        |SiSU          |2000018 |443       |443               |20240049550|PRESENCIAL         |GRADUAÇÃO   |DIREITO                 |ABIMAEL ESDRAS CARVALHO DE MOURA LIRA       |CENTRO DE CIÊNCIAS SOCIAIS APLICADAS|CENTRO DE CIÊNCIAS SOCIAIS APLICADAS       |2               |M   |G                 |TRANCADO |REGULAR      |\n",
      "|6865c341402845913e768288|2024        |SiSU          |2000014 |443       |443               |20240054550|PRESENCIAL         |GRADUAÇÃO   |CIÊNCIAS ECONÔMICAS     |ABNER ADIEL DE MORAES COSTA                 |CENTRO DE CIÊNCIAS SOCIAIS APLICADAS|CENTRO DE CIÊNCIAS SOCIAIS APLICADAS       |2               |M   |G                 |ATIVO    |REGULAR      |\n",
      "|6865c341402845913e76828a|2024        |SiSU          |7410980 |441       |441               |20240052250|PRESENCIAL         |GRADUAÇÃO   |FONOAUDIOLOGIA          |ABNER GABRIEL DO NASCIMENTO OLIVEIRA QUEIROZ|CENTRO DE CIÊNCIAS DA SAÚDE         |CENTRO DE CIÊNCIAS DA SAÚDE                |1               |M   |G                 |ATIVO    |REGULAR      |\n",
      "|6865c341402845913e76828b|2024        |SiSU          |10320810|4885      |605               |20240063450|PRESENCIAL         |GRADUAÇÃO   |CIÊNCIAS E TECNOLOGIA   |ABNER LUCAS DA SILVA ROCHA                  |ESCOLA DE CIÊNCIAS E TECNOLOGIA     |UNIVERSIDADE FEDERAL DO RIO GRANDE DO NORTE|2               |M   |G                 |CANCELADO|REGULAR      |\n",
      "+------------------------+------------+--------------+--------+----------+------------------+-----------+-------------------+------------+------------------------+--------------------------------------------+------------------------------------+-------------------------------------------+----------------+----+------------------+---------+-------------+\n",
      "only showing top 5 rows\n",
      "\n"
     ]
    }
   ],
   "source": [
    "sisu_df = df.filter(df[\"forma_ingresso\"] == \"SiSU\")\n",
    "sisu_df.show(5, truncate=False)"
   ]
  },
  {
   "cell_type": "code",
   "execution_count": 10,
   "id": "e50d00f3-6b94-4750-84e4-c223b289c368",
   "metadata": {},
   "outputs": [
    {
     "name": "stderr",
     "output_type": "stream",
     "text": [
      "                                                                                "
     ]
    }
   ],
   "source": [
    "#Salvar resultado\n",
    "sisu_df.write.format(\"mongodb\").mode(\"overwrite\") \\\n",
    "    .option(\"collection\", \"ingresso_sisu\").save()"
   ]
  },
  {
   "cell_type": "markdown",
   "id": "f62d23a7-6b32-4922-a815-a43edfe97e4d",
   "metadata": {},
   "source": [
    "### 2. Computar quantos alunos são do sexo masculino e do sexo feminino"
   ]
  },
  {
   "cell_type": "code",
   "execution_count": 11,
   "id": "fba28175-9516-4c24-bce7-1c8633988862",
   "metadata": {},
   "outputs": [
    {
     "name": "stdout",
     "output_type": "stream",
     "text": [
      "+-----+-----+\n",
      "| sexo|count|\n",
      "+-----+-----+\n",
      "|false|    1|\n",
      "|    F| 7470|\n",
      "|    M| 6988|\n",
      "+-----+-----+\n",
      "\n"
     ]
    }
   ],
   "source": [
    "sexo_df = df.groupBy(\"sexo\").count()\n",
    "sexo_df.show()"
   ]
  },
  {
   "cell_type": "code",
   "execution_count": 12,
   "id": "ba36d7db-29ad-4a14-807c-26a5d820f3c5",
   "metadata": {},
   "outputs": [
    {
     "name": "stdout",
     "output_type": "stream",
     "text": [
      "+------------------------+------------+--------------+--------+----------+------------------+-----------+-------------------+------------+------------------+------------------+--------------------+--------------------+----------------+-----+------------------+------+-------------+\n",
      "|_id                     |ano_ingresso|forma_ingresso|id_curso|id_unidade|id_unidade_gestora|matricula  |modalidade_educacao|nivel_ensino|nome_curso        |nome_discente     |nome_unidade        |nome_unidade_gestora|periodo_ingresso|sexo |sigla_nivel_ensino|status|tipo_discente|\n",
      "+------------------------+------------+--------------+--------+----------+------------------+-----------+-------------------+------------+------------------+------------------+--------------------+--------------------+----------------+-----+------------------+------+-------------+\n",
      "|68719d64cb8543122036c8bc|2024        |SiSU          |2000032 |445       |445               |20240008299|PRESENCIAL         |GRADUAÇÃO   |ENGENHARIA QUÍMICA|Jesse Araújo Tomaz|CENTRO DE TECNOLOGIA|CENTRO DE TECNOLOGIA|2               |false|G                 |ATIVO |REGULAR      |\n",
      "+------------------------+------------+--------------+--------+----------+------------------+-----------+-------------------+------------+------------------+------------------+--------------------+--------------------+----------------+-----+------------------+------+-------------+\n",
      "\n"
     ]
    }
   ],
   "source": [
    "df.filter(df[\"sexo\"] == \"false\").show(truncate=False)"
   ]
  },
  {
   "cell_type": "code",
   "execution_count": 13,
   "id": "dc19eec6-b57b-4564-a7fe-ac0b00481a87",
   "metadata": {},
   "outputs": [
    {
     "name": "stdout",
     "output_type": "stream",
     "text": [
      "+----+-----+\n",
      "|sexo|count|\n",
      "+----+-----+\n",
      "|   F| 7470|\n",
      "|   M| 6988|\n",
      "+----+-----+\n",
      "\n"
     ]
    }
   ],
   "source": [
    "df_new = df.filter(df[\"sexo\"].isin(\"M\", \"F\"))\n",
    "\n",
    "sexo_df = df_new.groupBy(\"sexo\").count()\n",
    "sexo_df.show()"
   ]
  },
  {
   "cell_type": "code",
   "execution_count": 13,
   "id": "fc6546ae-30b6-4fe1-bfac-d3c765df2e6a",
   "metadata": {},
   "outputs": [],
   "source": [
    "# Salvando consulta\n",
    "sexo_df.write.format(\"mongodb\").mode(\"overwrite\") \\\n",
    "    .option(\"collection\", \"contagem_por_sexo\").save()"
   ]
  },
  {
   "cell_type": "markdown",
   "id": "71332440-dd29-4504-8bc6-fff81774c4ce",
   "metadata": {},
   "source": [
    "### 3. Computar o top 5 dos cursos que mais receberam alunos"
   ]
  },
  {
   "cell_type": "code",
   "execution_count": 14,
   "id": "7cfc3c50-dd77-4781-841c-56d4ea35882b",
   "metadata": {},
   "outputs": [
    {
     "name": "stdout",
     "output_type": "stream",
     "text": [
      "+--------------------------------+-----+\n",
      "|nome_curso                      |count|\n",
      "+--------------------------------+-----+\n",
      "|                                |1260 |\n",
      "|CIÊNCIAS E TECNOLOGIA           |787  |\n",
      "|CURSO DE LÍNGUA INGLESA  BÁSICO|494  |\n",
      "|PEDAGOGIA                       |427  |\n",
      "|TECNOLOGIA DA INFORMAÇÃO        |346  |\n",
      "+--------------------------------+-----+\n",
      "\n"
     ]
    }
   ],
   "source": [
    "top_cursos_df = df.groupBy(\"nome_curso\") \\\n",
    "    .count() \\\n",
    "    .orderBy(\"count\", ascending=False) \\\n",
    "    .limit(5)\n",
    "\n",
    "top_cursos_df.show(truncate=False)"
   ]
  },
  {
   "cell_type": "code",
   "execution_count": 15,
   "id": "ad3262ff-05d0-479d-926e-9680f44e6777",
   "metadata": {},
   "outputs": [],
   "source": [
    "from pyspark.sql.functions import col"
   ]
  },
  {
   "cell_type": "code",
   "execution_count": 16,
   "id": "6300c7fe-d68c-4468-aab2-50761bcf363a",
   "metadata": {},
   "outputs": [
    {
     "name": "stderr",
     "output_type": "stream",
     "text": [
      "<>:1: SyntaxWarning: invalid escape sequence '\\s'\n",
      "<>:1: SyntaxWarning: invalid escape sequence '\\s'\n",
      "/tmp/ipykernel_3249/398303428.py:1: SyntaxWarning: invalid escape sequence '\\s'\n",
      "  df.filter(col(\"nome_curso\").rlike(\"^\\s*$\")).show(truncate=False)\n"
     ]
    },
    {
     "name": "stdout",
     "output_type": "stream",
     "text": [
      "+------------------------+------------+----------------------------+--------+----------+------------------+-----------+-------------------+------------+----------+--------------------------------------+------------+--------------------+----------------+----+------------------+---------+-------------+\n",
      "|_id                     |ano_ingresso|forma_ingresso              |id_curso|id_unidade|id_unidade_gestora|matricula  |modalidade_educacao|nivel_ensino|nome_curso|nome_discente                         |nome_unidade|nome_unidade_gestora|periodo_ingresso|sexo|sigla_nivel_ensino|status   |tipo_discente|\n",
      "+------------------------+------------+----------------------------+--------+----------+------------------+-----------+-------------------+------------+----------+--------------------------------------+------------+--------------------+----------------+----+------------------+---------+-------------+\n",
      "|68719d64cb8543122036aff1|2024        |ALUNO ESPECIAL POS-GRADUACAO|        |          |                  |20241030122|                   |MESTRADO    |          |ABDIEL DE LIRA ROLIM                  |            |                    |2               |M   |E                 |ATIVO    |ESPECIAL     |\n",
      "|68719d64cb8543122036afff|2024        |ALUNO ESPECIAL POS-GRADUACAO|        |          |                  |20241027299|                   |MESTRADO    |          |ABRAAO DANTAS FRANCA DE LIMA          |            |                    |2               |M   |E                 |ATIVO    |ESPECIAL     |\n",
      "|68719d64cb8543122036b001|2024        |ALUNO ESPECIAL POS-GRADUACAO|        |          |                  |20241005916|                   |MESTRADO    |          |ABRAÃO SÉRVULO DO NASCIMENTO          |            |                    |1               |M   |E                 |ATIVO    |ESPECIAL     |\n",
      "|68719d64cb8543122036b004|2024        |ALUNO ESPECIAL POS-GRADUACAO|        |          |                  |20241020073|                   |MESTRADO    |          |ACÁCIA GENTIL NOGUEIRA MELO           |            |                    |1               |F   |E                 |ATIVO    |ESPECIAL     |\n",
      "|68719d64cb8543122036b006|2024        |ALUNO ESPECIAL POS-GRADUACAO|        |          |                  |20241014970|                   |MESTRADO    |          |ACAUÃ IZÍDIO DA SILVA                 |            |                    |1               |M   |E                 |ATIVO    |ESPECIAL     |\n",
      "|68719d64cb8543122036b008|2024        |ALUNO ESPECIAL POS-GRADUACAO|        |          |                  |20241025875|                   |MESTRADO    |          |ACILINA ARAÚJO MOUZINHO               |            |                    |2               |F   |E                 |ATIVO    |ESPECIAL     |\n",
      "|68719d64cb8543122036b015|2024        |ALUNO ESPECIAL POS-GRADUACAO|        |          |                  |20241000400|                   |MESTRADO    |          |ADEILSA LIENE DE MEDEIROS DANTAS      |            |                    |1               |F   |E                 |ATIVO    |ESPECIAL     |\n",
      "|68719d64cb8543122036b01c|2024        |ALUNO ESPECIAL POS-GRADUACAO|        |          |                  |20241012581|                   |MESTRADO    |          |ADÉLIA VICTÓRYA LIMA DE ARAÚJO        |            |                    |1               |F   |E                 |ATIVO    |ESPECIAL     |\n",
      "|68719d64cb8543122036b036|2024        |ALUNO ESPECIAL POS-GRADUACAO|        |          |                  |20241013248|                   |MESTRADO    |          |ADRIANA BATISTA CANDIDO               |            |                    |1               |M   |E                 |CANCELADO|ESPECIAL     |\n",
      "|68719d64cb8543122036b037|2024        |ALUNO ESPECIAL POS-GRADUACAO|        |          |                  |20241010040|                   |MESTRADO    |          |ADRIANA BERNARDO DA SILVA             |            |                    |1               |F   |E                 |CANCELADO|ESPECIAL     |\n",
      "|68719d64cb8543122036b039|2024        |ALUNO ESPECIAL POS-GRADUACAO|        |          |                  |20241027851|                   |MESTRADO    |          |ADRIANA CRISTINA SOARES DA ROCHA      |            |                    |2               |F   |E                 |ATIVO    |ESPECIAL     |\n",
      "|68719d64cb8543122036b03a|2024        |ALUNO ESPECIAL POS-GRADUACAO|        |          |                  |20241017837|                   |MESTRADO    |          |ADRIANA DA SILVA SIMÕES               |            |                    |1               |F   |E                 |ATIVO    |ESPECIAL     |\n",
      "|68719d64cb8543122036b03b|2024        |ALUNO ESPECIAL POS-GRADUACAO|        |          |                  |20241010068|                   |MESTRADO    |          |ADRIANA DINIZ FREIRE DE MELO          |            |                    |1               |F   |E                 |ATIVO    |ESPECIAL     |\n",
      "|68719d64cb8543122036b03d|2024        |ALUNO ESPECIAL POS-GRADUACAO|        |          |                  |20241033044|                   |MESTRADO    |          |ADRIANA DUARTE DA PENHA               |            |                    |2               |F   |E                 |CANCELADO|ESPECIAL     |\n",
      "|68719d64cb8543122036b044|2024        |ALUNO ESPECIAL POS-GRADUACAO|        |          |                  |20241031335|                   |MESTRADO    |          |ADRIANA NESI DE SA                    |            |                    |2               |F   |E                 |ATIVO    |ESPECIAL     |\n",
      "|68719d64cb8543122036b046|2024        |ALUNO ESPECIAL POS-GRADUACAO|        |          |                  |20241010101|                   |MESTRADO    |          |ADRIANA ROBERTA SOARES DE LIMA        |            |                    |1               |M   |E                 |ATIVO    |ESPECIAL     |\n",
      "|68719d64cb8543122036b047|2024        |ALUNO ESPECIAL POS-GRADUACAO|        |          |                  |20241025534|                   |MESTRADO    |          |ADRIANA ROCHA DE SOUZA FORTES DA SILVA|            |                    |1               |F   |E                 |ATIVO    |ESPECIAL     |\n",
      "|68719d64cb8543122036b07a|2024        |ALUNO ESPECIAL POS-GRADUACAO|        |          |                  |20241030973|                   |MESTRADO    |          |ADSON EMANUEL SANTOS AMARAL           |            |                    |2               |M   |E                 |CANCELADO|ESPECIAL     |\n",
      "|68719d64cb8543122036b08b|2024        |ALUNO ESPECIAL POS-GRADUACAO|        |          |                  |20241017846|                   |MESTRADO    |          |AGNELLO RUFINO DA SILVA JUNIOR        |            |                    |1               |M   |E                 |ATIVO    |ESPECIAL     |\n",
      "|68719d64cb8543122036b08f|2024        |ALUNO ESPECIAL POS-GRADUACAO|        |          |                  |20241030472|                   |MESTRADO    |          |AGNES SEVERIANO DE SOUZA              |            |                    |2               |F   |E                 |ATIVO    |ESPECIAL     |\n",
      "+------------------------+------------+----------------------------+--------+----------+------------------+-----------+-------------------+------------+----------+--------------------------------------+------------+--------------------+----------------+----+------------------+---------+-------------+\n",
      "only showing top 20 rows\n",
      "\n"
     ]
    }
   ],
   "source": [
    "df.filter(col(\"nome_curso\").rlike(\"^\\s*$\")).show(truncate=False)"
   ]
  },
  {
   "cell_type": "code",
   "execution_count": 17,
   "id": "894084e8-f2fa-4a63-b222-515a0c5de428",
   "metadata": {},
   "outputs": [
    {
     "name": "stderr",
     "output_type": "stream",
     "text": [
      "<>:2: SyntaxWarning: invalid escape sequence '\\s'\n",
      "<>:2: SyntaxWarning: invalid escape sequence '\\s'\n",
      "/tmp/ipykernel_3249/1766389417.py:2: SyntaxWarning: invalid escape sequence '\\s'\n",
      "  df_validos = df.filter(~col(\"nome_curso\").rlike(\"^\\s*$\"))\n"
     ]
    },
    {
     "name": "stdout",
     "output_type": "stream",
     "text": [
      "+--------------------------------+-----+\n",
      "|nome_curso                      |count|\n",
      "+--------------------------------+-----+\n",
      "|CIÊNCIAS E TECNOLOGIA           |787  |\n",
      "|CURSO DE LÍNGUA INGLESA  BÁSICO|494  |\n",
      "|PEDAGOGIA                       |427  |\n",
      "|TECNOLOGIA DA INFORMAÇÃO        |346  |\n",
      "|HISTÓRIA                        |309  |\n",
      "+--------------------------------+-----+\n",
      "\n"
     ]
    }
   ],
   "source": [
    "# Remover cursos com nome vazio ou espaços\n",
    "df_validos = df.filter(~col(\"nome_curso\").rlike(\"^\\s*$\"))\n",
    "\n",
    "# Computar top 5 cursos\n",
    "top5_df = df_validos.groupBy(\"nome_curso\") \\\n",
    "    .count() \\\n",
    "    .orderBy(\"count\", ascending=False) \\\n",
    "    .limit(5)\n",
    "\n",
    "# Mostrar resultado\n",
    "top5_df.show(truncate=False)"
   ]
  },
  {
   "cell_type": "code",
   "execution_count": 18,
   "id": "80ccd1c6-fdcb-4631-ade5-ca65f31b14f1",
   "metadata": {},
   "outputs": [
    {
     "name": "stderr",
     "output_type": "stream",
     "text": [
      "                                                                                "
     ]
    }
   ],
   "source": [
    "top5_df.write.format(\"mongodb\").mode(\"overwrite\") \\\n",
    "    .option(\"collection\", \"top5_cursos\").save()"
   ]
  },
  {
   "cell_type": "markdown",
   "id": "bef4fd22-db9e-4a28-9170-e50b1e94253f",
   "metadata": {},
   "source": [
    "### 4. quantos alunos são do sexo masculino que ingressaram via SiSU em Engenharia de Computação."
   ]
  },
  {
   "cell_type": "code",
   "execution_count": 19,
   "id": "f3532aa2-f13c-4d7e-a058-c5b8ed42d5a2",
   "metadata": {},
   "outputs": [
    {
     "name": "stderr",
     "output_type": "stream",
     "text": [
      "<>:3: SyntaxWarning: invalid escape sequence '\\s'\n",
      "<>:3: SyntaxWarning: invalid escape sequence '\\s'\n",
      "/tmp/ipykernel_3249/1300903563.py:3: SyntaxWarning: invalid escape sequence '\\s'\n",
      "  .filter(~col(\"nome_curso\").rlike(\"^\\s*$\"))\n"
     ]
    },
    {
     "name": "stdout",
     "output_type": "stream",
     "text": [
      "+------------------------+------------+--------------+--------+----------+------------------+-----------+-------------------+------------+------------------------+----------------------------------------------+--------------------+--------------------+----------------+----+------------------+--------+-------------+\n",
      "|_id                     |ano_ingresso|forma_ingresso|id_curso|id_unidade|id_unidade_gestora|matricula  |modalidade_educacao|nivel_ensino|nome_curso              |nome_discente                                 |nome_unidade        |nome_unidade_gestora|periodo_ingresso|sexo|sigla_nivel_ensino|status  |tipo_discente|\n",
      "+------------------------+------------+--------------+--------+----------+------------------+-----------+-------------------+------------+------------------------+----------------------------------------------+--------------------+--------------------+----------------+----+------------------+--------+-------------+\n",
      "|68719d64cb8543122036b0af|2024        |SiSU          |2000026 |445       |445               |20240059411|PRESENCIAL         |GRADUAÇÃO   |ENGENHARIA DE COMPUTAÇÃO|ALAN CESAR REBOUCAS DE ARAUJO CARVALHO        |CENTRO DE TECNOLOGIA|CENTRO DE TECNOLOGIA|2               |M   |G                 |ATIVO   |REGULAR      |\n",
      "|68719d64cb8543122036b621|2024        |SiSU          |2000026 |445       |445               |20240043215|PRESENCIAL         |GRADUAÇÃO   |ENGENHARIA DE COMPUTAÇÃO|ARTHUR DOMINIK BARBOSA DA SILVA               |CENTRO DE TECNOLOGIA|CENTRO DE TECNOLOGIA|2               |M   |G                 |ATIVO   |REGULAR      |\n",
      "|68719d64cb8543122036b649|2024        |SiSU          |2000026 |445       |445               |20240050247|PRESENCIAL         |GRADUAÇÃO   |ENGENHARIA DE COMPUTAÇÃO|ARTHUR PORTO DAS NEVES MARTINS                |CENTRO DE TECNOLOGIA|CENTRO DE TECNOLOGIA|2               |M   |G                 |ATIVO   |REGULAR      |\n",
      "|68719d64cb8543122036b8fa|2024        |SiSU          |2000026 |445       |445               |20240028273|PRESENCIAL         |GRADUAÇÃO   |ENGENHARIA DE COMPUTAÇÃO|CAUÃ MEDEIROS PEREIRA                         |CENTRO DE TECNOLOGIA|CENTRO DE TECNOLOGIA|1               |M   |G                 |ATIVO   |REGULAR      |\n",
      "|68719d64cb8543122036c1d9|2024        |SiSU          |2000026 |445       |445               |20240080845|PRESENCIAL         |GRADUAÇÃO   |ENGENHARIA DE COMPUTAÇÃO|GABRIEL ANTUNES SILVA                         |CENTRO DE TECNOLOGIA|CENTRO DE TECNOLOGIA|2               |M   |G                 |ATIVO   |REGULAR      |\n",
      "|68719d64cb8543122036c38a|2024        |SiSU          |2000026 |445       |445               |20240055833|PRESENCIAL         |GRADUAÇÃO   |ENGENHARIA DE COMPUTAÇÃO|GIOVANNI TARDELLI DA SILVA VILAR              |CENTRO DE TECNOLOGIA|CENTRO DE TECNOLOGIA|2               |M   |G                 |ATIVO   |REGULAR      |\n",
      "|68719d64cb8543122036c440|2024        |SiSU          |2000026 |445       |445               |20240005045|PRESENCIAL         |GRADUAÇÃO   |ENGENHARIA DE COMPUTAÇÃO|GUILHERME RIBEIRO AMORIM                      |CENTRO DE TECNOLOGIA|CENTRO DE TECNOLOGIA|1               |M   |G                 |ATIVO   |REGULAR      |\n",
      "|68719d64cb8543122036c72e|2024        |SiSU          |2000026 |445       |445               |20240062963|PRESENCIAL         |GRADUAÇÃO   |ENGENHARIA DE COMPUTAÇÃO|ITAMAR CAMPOS PEIXOTO                         |CENTRO DE TECNOLOGIA|CENTRO DE TECNOLOGIA|2               |M   |G                 |TRANCADO|REGULAR      |\n",
      "|68719d64cb8543122036c75c|2024        |SiSU          |2000026 |445       |445               |20240032365|PRESENCIAL         |GRADUAÇÃO   |ENGENHARIA DE COMPUTAÇÃO|IWRI SIMPLÍCIO FELIPE                         |CENTRO DE TECNOLOGIA|CENTRO DE TECNOLOGIA|1               |M   |G                 |ATIVO   |REGULAR      |\n",
      "|68719d64cb8543122036c989|2024        |SiSU          |2000026 |445       |445               |20240012676|PRESENCIAL         |GRADUAÇÃO   |ENGENHARIA DE COMPUTAÇÃO|JOAO GABRIEL DE SOUZA BEZERRA                 |CENTRO DE TECNOLOGIA|CENTRO DE TECNOLOGIA|2               |M   |G                 |ATIVO   |REGULAR      |\n",
      "|68719d64cb8543122036ca3c|2024        |SiSU          |2000026 |445       |445               |20240079666|PRESENCIAL         |GRADUAÇÃO   |ENGENHARIA DE COMPUTAÇÃO|JOÃO VICTOR ALVES CABRAL DE VASCONCELOS       |CENTRO DE TECNOLOGIA|CENTRO DE TECNOLOGIA|2               |M   |G                 |TRANCADO|REGULAR      |\n",
      "|68719d64cb8543122036ca4f|2024        |SiSU          |2000026 |445       |445               |20240011230|PRESENCIAL         |GRADUAÇÃO   |ENGENHARIA DE COMPUTAÇÃO|JOAO VICTOR DE SOUZA PEREIRA DA COSTA SALUSTIO|CENTRO DE TECNOLOGIA|CENTRO DE TECNOLOGIA|1               |M   |G                 |ATIVO   |REGULAR      |\n",
      "|68719d64cb8543122036ca9e|2024        |SiSU          |2000026 |445       |445               |20240049003|PRESENCIAL         |GRADUAÇÃO   |ENGENHARIA DE COMPUTAÇÃO|JOAQUIM IZAQUE DOS SANTOS                     |CENTRO DE TECNOLOGIA|CENTRO DE TECNOLOGIA|1               |M   |G                 |ATIVO   |REGULAR      |\n",
      "|68719d64cb8543122036cb20|2024        |SiSU          |2000026 |445       |445               |20240026831|PRESENCIAL         |GRADUAÇÃO   |ENGENHARIA DE COMPUTAÇÃO|JORGE MARINHEIRO DA SILVA FILHO               |CENTRO DE TECNOLOGIA|CENTRO DE TECNOLOGIA|1               |M   |G                 |ATIVO   |REGULAR      |\n",
      "|68719d64cb8543122036cd76|2024        |SiSU          |2000026 |445       |445               |20240016610|PRESENCIAL         |GRADUAÇÃO   |ENGENHARIA DE COMPUTAÇÃO|JULIO DOS ANJOS LUCAS MOURA                   |CENTRO DE TECNOLOGIA|CENTRO DE TECNOLOGIA|1               |M   |G                 |ATIVO   |REGULAR      |\n",
      "|68719d64cb8543122036cdad|2024        |SiSU          |2000026 |445       |445               |20240030899|PRESENCIAL         |GRADUAÇÃO   |ENGENHARIA DE COMPUTAÇÃO|KAIC VARGENS SANTOS                           |CENTRO DE TECNOLOGIA|CENTRO DE TECNOLOGIA|1               |M   |G                 |ATIVO   |REGULAR      |\n",
      "|68719d64cb8543122036ce50|2024        |SiSU          |2000026 |445       |445               |20240064707|PRESENCIAL         |GRADUAÇÃO   |ENGENHARIA DE COMPUTAÇÃO|KAUÃ EDER PEREIRA LACERDA                     |CENTRO DE TECNOLOGIA|CENTRO DE TECNOLOGIA|2               |M   |G                 |ATIVO   |REGULAR      |\n",
      "|68719d64cb8543122036cefb|2024        |SiSU          |2000026 |445       |445               |20240035723|PRESENCIAL         |GRADUAÇÃO   |ENGENHARIA DE COMPUTAÇÃO|LAECIO ICARO MAIA COSTA                       |CENTRO DE TECNOLOGIA|CENTRO DE TECNOLOGIA|1               |M   |G                 |ATIVO   |REGULAR      |\n",
      "|68719d64cb8543122036d1f7|2024        |SiSU          |2000026 |445       |445               |20240030914|PRESENCIAL         |GRADUAÇÃO   |ENGENHARIA DE COMPUTAÇÃO|LUAN PEDRO ABREU VIEIRA                       |CENTRO DE TECNOLOGIA|CENTRO DE TECNOLOGIA|1               |M   |G                 |ATIVO   |REGULAR      |\n",
      "|68719d64cb8543122036d27b|2024        |SiSU          |2000026 |445       |445               |20240080620|PRESENCIAL         |GRADUAÇÃO   |ENGENHARIA DE COMPUTAÇÃO|LUCAS KAUA PINHEIRO DE GOIS                   |CENTRO DE TECNOLOGIA|CENTRO DE TECNOLOGIA|2               |M   |G                 |ATIVO   |REGULAR      |\n",
      "+------------------------+------------+--------------+--------+----------+------------------+-----------+-------------------+------------+------------------------+----------------------------------------------+--------------------+--------------------+----------------+----+------------------+--------+-------------+\n",
      "only showing top 20 rows\n",
      "\n"
     ]
    }
   ],
   "source": [
    "# Limpar dados inválidos\n",
    "df_limpo = df.filter(col(\"sexo\").isin(\"M\", \"F\")) \\\n",
    "             .filter(~col(\"nome_curso\").rlike(\"^\\s*$\"))\n",
    "\n",
    "#Filtrar apenas os homens, via SiSU, em Engenharia de Computação\n",
    "engenharia_df = df_limpo.filter(\n",
    "    (col(\"sexo\") == \"M\") &\n",
    "    (col(\"forma_ingresso\") == \"SiSU\") &\n",
    "    (col(\"nome_curso\") == \"ENGENHARIA DE COMPUTAÇÃO\")\n",
    ")\n",
    "\n",
    "# Mostrar resultado\n",
    "engenharia_df.show(truncate=False)"
   ]
  },
  {
   "cell_type": "code",
   "execution_count": 20,
   "id": "ef69c3bd-0263-4341-be09-24ea964d8d19",
   "metadata": {},
   "outputs": [
    {
     "name": "stdout",
     "output_type": "stream",
     "text": [
      "\n",
      "Total de homens via SiSU em Engenharia de Computação: 32\n"
     ]
    }
   ],
   "source": [
    "total = engenharia_df.count()\n",
    "print(f\"\\nTotal de homens via SiSU em Engenharia de Computação: {total}\")"
   ]
  },
  {
   "cell_type": "code",
   "execution_count": 21,
   "id": "7357aabb-4f8e-4da7-a4c9-7aa9f7b0b858",
   "metadata": {},
   "outputs": [],
   "source": [
    "engenharia_df.write.format(\"mongodb\").mode(\"overwrite\") \\\n",
    "    .option(\"collection\", \"homens_sisu_engenharia_computacao\").save()"
   ]
  },
  {
   "cell_type": "markdown",
   "id": "d2ae2634-7211-43af-a725-8589f81ae6c2",
   "metadata": {},
   "source": [
    "## Verificando as coleções salvas"
   ]
  },
  {
   "cell_type": "code",
   "execution_count": 22,
   "id": "fbc202b7-c891-4395-8936-2a06837e2c5a",
   "metadata": {},
   "outputs": [
    {
     "name": "stdout",
     "output_type": "stream",
     "text": [
      "Verificando a coleção 'ingresso_sisu':\n",
      "++\n",
      "||\n",
      "++\n",
      "++\n",
      "\n"
     ]
    },
    {
     "name": "stderr",
     "output_type": "stream",
     "text": [
      "25/07/11 23:27:16 WARN Partitioner: Unable to get collection stats (collstats) returning a single partition.\n",
      "25/07/11 23:27:16 WARN Partitioner: Unable to get collection stats (collstats) returning a single partition.\n"
     ]
    }
   ],
   "source": [
    "print(\"Verificando a coleção 'ingresso_sisu':\")\n",
    "spark.read.format(\"mongodb\") \\\n",
    "    .option(\"collection\", \"ingresso_sisu\") \\\n",
    "    .load() \\\n",
    "    .show()"
   ]
  },
  {
   "cell_type": "code",
   "execution_count": 23,
   "id": "eb2560ab-54b3-4d90-aa0d-51ad3039e9e3",
   "metadata": {},
   "outputs": [
    {
     "name": "stdout",
     "output_type": "stream",
     "text": [
      "Verificando a coleção 'contagem_por_sexo':\n",
      "++\n",
      "||\n",
      "++\n",
      "++\n",
      "\n"
     ]
    },
    {
     "name": "stderr",
     "output_type": "stream",
     "text": [
      "25/07/11 23:27:18 WARN Partitioner: Unable to get collection stats (collstats) returning a single partition.\n",
      "25/07/11 23:27:18 WARN Partitioner: Unable to get collection stats (collstats) returning a single partition.\n"
     ]
    }
   ],
   "source": [
    "print(\"Verificando a coleção 'contagem_por_sexo':\")\n",
    "spark.read.format(\"mongodb\") \\\n",
    "    .option(\"collection\", \"contagem_por_sexo\") \\\n",
    "    .load() \\\n",
    "    .show()"
   ]
  },
  {
   "cell_type": "code",
   "execution_count": 24,
   "id": "a0bccc94-3185-40b4-b99c-c1520799d53d",
   "metadata": {},
   "outputs": [
    {
     "name": "stdout",
     "output_type": "stream",
     "text": [
      "Verificando a coleção 'top5_cursos':\n",
      "+--------------------+-----+--------------------+\n",
      "|                 _id|count|          nome_curso|\n",
      "+--------------------+-----+--------------------+\n",
      "|68719dbe2189d1470...|  787|CIÊNCIAS E TECNOL...|\n",
      "|68719dbe2189d1470...|  494|CURSO DE LÍNGUA I...|\n",
      "|68719dbe2189d1470...|  427|           PEDAGOGIA|\n",
      "|68719dbe2189d1470...|  346|TECNOLOGIA DA INF...|\n",
      "|68719dbe2189d1470...|  309|            HISTÓRIA|\n",
      "+--------------------+-----+--------------------+\n",
      "\n"
     ]
    }
   ],
   "source": [
    "print(\"Verificando a coleção 'top5_cursos':\")\n",
    "spark.read.format(\"mongodb\") \\\n",
    "    .option(\"collection\", \"top5_cursos\") \\\n",
    "    .load() \\\n",
    "    .show()"
   ]
  },
  {
   "cell_type": "code",
   "execution_count": 25,
   "id": "f8f849d1-e7e5-4c15-92b1-5a221d58be9c",
   "metadata": {},
   "outputs": [
    {
     "name": "stdout",
     "output_type": "stream",
     "text": [
      "Verificando a coleção 'homens_sisu_engenharia_computacao':\n",
      "+--------------------+------------+--------------+--------+----------+------------------+-----------+-------------------+------------+--------------------+--------------------+--------------------+--------------------+----------------+----+------------------+--------+-------------+\n",
      "|                 _id|ano_ingresso|forma_ingresso|id_curso|id_unidade|id_unidade_gestora|  matricula|modalidade_educacao|nivel_ensino|          nome_curso|       nome_discente|        nome_unidade|nome_unidade_gestora|periodo_ingresso|sexo|sigla_nivel_ensino|  status|tipo_discente|\n",
      "+--------------------+------------+--------------+--------+----------+------------------+-----------+-------------------+------------+--------------------+--------------------+--------------------+--------------------+----------------+----+------------------+--------+-------------+\n",
      "|68719d64cb8543122...|        2024|          SiSU| 2000026|       445|               445|20240059411|         PRESENCIAL|   GRADUAÇÃO|ENGENHARIA DE COM...|ALAN CESAR REBOUC...|CENTRO DE TECNOLOGIA|CENTRO DE TECNOLOGIA|               2|   M|                 G|   ATIVO|      REGULAR|\n",
      "|68719d64cb8543122...|        2024|          SiSU| 2000026|       445|               445|20240043215|         PRESENCIAL|   GRADUAÇÃO|ENGENHARIA DE COM...|ARTHUR DOMINIK BA...|CENTRO DE TECNOLOGIA|CENTRO DE TECNOLOGIA|               2|   M|                 G|   ATIVO|      REGULAR|\n",
      "|68719d64cb8543122...|        2024|          SiSU| 2000026|       445|               445|20240050247|         PRESENCIAL|   GRADUAÇÃO|ENGENHARIA DE COM...|ARTHUR PORTO DAS ...|CENTRO DE TECNOLOGIA|CENTRO DE TECNOLOGIA|               2|   M|                 G|   ATIVO|      REGULAR|\n",
      "|68719d64cb8543122...|        2024|          SiSU| 2000026|       445|               445|20240028273|         PRESENCIAL|   GRADUAÇÃO|ENGENHARIA DE COM...|CAUÃ MEDEIROS PER...|CENTRO DE TECNOLOGIA|CENTRO DE TECNOLOGIA|               1|   M|                 G|   ATIVO|      REGULAR|\n",
      "|68719d64cb8543122...|        2024|          SiSU| 2000026|       445|               445|20240080845|         PRESENCIAL|   GRADUAÇÃO|ENGENHARIA DE COM...|GABRIEL ANTUNES S...|CENTRO DE TECNOLOGIA|CENTRO DE TECNOLOGIA|               2|   M|                 G|   ATIVO|      REGULAR|\n",
      "|68719d64cb8543122...|        2024|          SiSU| 2000026|       445|               445|20240055833|         PRESENCIAL|   GRADUAÇÃO|ENGENHARIA DE COM...|GIOVANNI TARDELLI...|CENTRO DE TECNOLOGIA|CENTRO DE TECNOLOGIA|               2|   M|                 G|   ATIVO|      REGULAR|\n",
      "|68719d64cb8543122...|        2024|          SiSU| 2000026|       445|               445|20240005045|         PRESENCIAL|   GRADUAÇÃO|ENGENHARIA DE COM...|GUILHERME RIBEIRO...|CENTRO DE TECNOLOGIA|CENTRO DE TECNOLOGIA|               1|   M|                 G|   ATIVO|      REGULAR|\n",
      "|68719d64cb8543122...|        2024|          SiSU| 2000026|       445|               445|20240062963|         PRESENCIAL|   GRADUAÇÃO|ENGENHARIA DE COM...|ITAMAR CAMPOS PEI...|CENTRO DE TECNOLOGIA|CENTRO DE TECNOLOGIA|               2|   M|                 G|TRANCADO|      REGULAR|\n",
      "|68719d64cb8543122...|        2024|          SiSU| 2000026|       445|               445|20240032365|         PRESENCIAL|   GRADUAÇÃO|ENGENHARIA DE COM...|IWRI SIMPLÍCIO FE...|CENTRO DE TECNOLOGIA|CENTRO DE TECNOLOGIA|               1|   M|                 G|   ATIVO|      REGULAR|\n",
      "|68719d64cb8543122...|        2024|          SiSU| 2000026|       445|               445|20240012676|         PRESENCIAL|   GRADUAÇÃO|ENGENHARIA DE COM...|JOAO GABRIEL DE S...|CENTRO DE TECNOLOGIA|CENTRO DE TECNOLOGIA|               2|   M|                 G|   ATIVO|      REGULAR|\n",
      "|68719d64cb8543122...|        2024|          SiSU| 2000026|       445|               445|20240079666|         PRESENCIAL|   GRADUAÇÃO|ENGENHARIA DE COM...|JOÃO VICTOR ALVES...|CENTRO DE TECNOLOGIA|CENTRO DE TECNOLOGIA|               2|   M|                 G|TRANCADO|      REGULAR|\n",
      "|68719d64cb8543122...|        2024|          SiSU| 2000026|       445|               445|20240011230|         PRESENCIAL|   GRADUAÇÃO|ENGENHARIA DE COM...|JOAO VICTOR DE SO...|CENTRO DE TECNOLOGIA|CENTRO DE TECNOLOGIA|               1|   M|                 G|   ATIVO|      REGULAR|\n",
      "|68719d64cb8543122...|        2024|          SiSU| 2000026|       445|               445|20240049003|         PRESENCIAL|   GRADUAÇÃO|ENGENHARIA DE COM...|JOAQUIM IZAQUE DO...|CENTRO DE TECNOLOGIA|CENTRO DE TECNOLOGIA|               1|   M|                 G|   ATIVO|      REGULAR|\n",
      "|68719d64cb8543122...|        2024|          SiSU| 2000026|       445|               445|20240026831|         PRESENCIAL|   GRADUAÇÃO|ENGENHARIA DE COM...|JORGE MARINHEIRO ...|CENTRO DE TECNOLOGIA|CENTRO DE TECNOLOGIA|               1|   M|                 G|   ATIVO|      REGULAR|\n",
      "|68719d64cb8543122...|        2024|          SiSU| 2000026|       445|               445|20240016610|         PRESENCIAL|   GRADUAÇÃO|ENGENHARIA DE COM...|JULIO DOS ANJOS L...|CENTRO DE TECNOLOGIA|CENTRO DE TECNOLOGIA|               1|   M|                 G|   ATIVO|      REGULAR|\n",
      "|68719d64cb8543122...|        2024|          SiSU| 2000026|       445|               445|20240030899|         PRESENCIAL|   GRADUAÇÃO|ENGENHARIA DE COM...| KAIC VARGENS SANTOS|CENTRO DE TECNOLOGIA|CENTRO DE TECNOLOGIA|               1|   M|                 G|   ATIVO|      REGULAR|\n",
      "|68719d64cb8543122...|        2024|          SiSU| 2000026|       445|               445|20240064707|         PRESENCIAL|   GRADUAÇÃO|ENGENHARIA DE COM...|KAUÃ EDER PEREIRA...|CENTRO DE TECNOLOGIA|CENTRO DE TECNOLOGIA|               2|   M|                 G|   ATIVO|      REGULAR|\n",
      "|68719d64cb8543122...|        2024|          SiSU| 2000026|       445|               445|20240035723|         PRESENCIAL|   GRADUAÇÃO|ENGENHARIA DE COM...|LAECIO ICARO MAIA...|CENTRO DE TECNOLOGIA|CENTRO DE TECNOLOGIA|               1|   M|                 G|   ATIVO|      REGULAR|\n",
      "|68719d64cb8543122...|        2024|          SiSU| 2000026|       445|               445|20240030914|         PRESENCIAL|   GRADUAÇÃO|ENGENHARIA DE COM...|LUAN PEDRO ABREU ...|CENTRO DE TECNOLOGIA|CENTRO DE TECNOLOGIA|               1|   M|                 G|   ATIVO|      REGULAR|\n",
      "|68719d64cb8543122...|        2024|          SiSU| 2000026|       445|               445|20240080620|         PRESENCIAL|   GRADUAÇÃO|ENGENHARIA DE COM...|LUCAS KAUA PINHEI...|CENTRO DE TECNOLOGIA|CENTRO DE TECNOLOGIA|               2|   M|                 G|   ATIVO|      REGULAR|\n",
      "+--------------------+------------+--------------+--------+----------+------------------+-----------+-------------------+------------+--------------------+--------------------+--------------------+--------------------+----------------+----+------------------+--------+-------------+\n",
      "only showing top 20 rows\n",
      "\n"
     ]
    }
   ],
   "source": [
    "print(\"Verificando a coleção 'homens_sisu_engenharia_computacao':\")\n",
    "spark.read.format(\"mongodb\") \\\n",
    "    .option(\"collection\", \"homens_sisu_engenharia_computacao\") \\\n",
    "    .load() \\\n",
    "    .show()"
   ]
  },
  {
   "cell_type": "code",
   "execution_count": null,
   "id": "cbd404d7-b4ac-4d41-a935-3d4cafebbfdb",
   "metadata": {},
   "outputs": [
    {
     "name": "stdout",
     "output_type": "stream",
     "text": [
      "Documento inserido com sucesso! ID: 6871a88fcb8543122036e874\n"
     ]
    }
   ],
   "source": [
    "#Exemplo usado para ser monitorado pelo kafka\n",
    "from pymongo import MongoClient\n",
    "\n",
    "mongo_service_name = \"mongo-db\"\n",
    "mongo_uri = f\"mongodb://{mongo_service_name}:27017/\"\n",
    "\n",
    "try:\n",
    "    client = MongoClient(mongo_uri)\n",
    "    db = client[\"ufrn\"] \n",
    "    collection = db[\"top5_cursos\"]\n",
    "    # Dados a serem inseridos\n",
    "    new_doc = {\n",
    "        \"curso\": \"yyyyyyyyyyyyyyyyyyyyyyyyyy\",\n",
    "        \"total_matriculas\": 30000\n",
    "    }\n",
    "\n",
    "    # Inserir o documento\n",
    "    result = collection.insert_one(new_doc)\n",
    "    print(f\"Documento inserido com sucesso! ID: {result.inserted_id}\")\n",
    "\n",
    "except Exception as e:\n",
    "    print(f\"Erro ao inserir documento no MongoDB: {e}\")\n",
    "finally:\n",
    "    if 'client' in locals() and client:\n",
    "        client.close()\n"
   ]
  },
  {
   "cell_type": "code",
   "execution_count": null,
   "id": "4db7109b-0665-43c1-8c0e-d2f6600ce964",
   "metadata": {},
   "outputs": [],
   "source": []
  }
 ],
 "metadata": {
  "kernelspec": {
   "display_name": "Python 3 (ipykernel)",
   "language": "python",
   "name": "python3"
  },
  "language_info": {
   "codemirror_mode": {
    "name": "ipython",
    "version": 3
   },
   "file_extension": ".py",
   "mimetype": "text/x-python",
   "name": "python",
   "nbconvert_exporter": "python",
   "pygments_lexer": "ipython3",
   "version": "3.12.3"
  }
 },
 "nbformat": 4,
 "nbformat_minor": 5
}
